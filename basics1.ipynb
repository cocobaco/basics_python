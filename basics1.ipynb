{
 "cells": [
  {
   "cell_type": "markdown",
   "metadata": {},
   "source": [
    "## Demo of Jupyter notebook\n",
    "This is a demo of jupyter notebook. This is a markdown (comment) section.\n",
    "It's not part of the code to be run."
   ]
  },
  {
   "cell_type": "code",
   "execution_count": 1,
   "metadata": {},
   "outputs": [
    {
     "name": "stdout",
     "output_type": "stream",
     "text": [
      "Package                            Version  \n",
      "---------------------------------- ---------\n",
      "absl-py                            0.2.2    \n",
      "alabaster                          0.7.10   \n",
      "anaconda-client                    1.6.14   \n",
      "anaconda-navigator                 1.8.7    \n",
      "anaconda-project                   0.8.2    \n",
      "asn1crypto                         0.24.0   \n",
      "astor                              0.6.2    \n",
      "astroid                            1.6.3    \n",
      "astropy                            3.0.2    \n",
      "attrs                              18.1.0   \n",
      "Babel                              2.5.3    \n",
      "backcall                           0.1.0    \n",
      "backports.shutil-get-terminal-size 1.0.0    \n",
      "beautifulsoup4                     4.6.0    \n",
      "bitarray                           0.8.1    \n",
      "bkcharts                           0.2      \n",
      "blaze                              0.11.3   \n",
      "bleach                             1.5.0    \n",
      "bokeh                              0.12.16  \n",
      "boto                               2.48.0   \n",
      "Bottleneck                         1.2.1    \n",
      "certifi                            2018.8.24\n",
      "cffi                               1.11.5   \n",
      "chardet                            3.0.4    \n",
      "click                              6.7      \n",
      "cloudpickle                        0.5.3    \n",
      "clyent                             1.2.2    \n",
      "colorama                           0.3.9    \n",
      "comtypes                           1.1.4    \n",
      "conda                              4.5.11   \n",
      "conda-build                        3.10.5   \n",
      "conda-verify                       2.0.0    \n",
      "contextlib2                        0.5.5    \n",
      "cryptography                       2.2.2    \n",
      "cycler                             0.10.0   \n",
      "Cython                             0.28.2   \n",
      "cytoolz                            0.9.0.1  \n",
      "dask                               0.17.5   \n",
      "datashape                          0.5.4    \n",
      "decorator                          4.3.0    \n",
      "distributed                        1.21.8   \n",
      "docutils                           0.14     \n",
      "entrypoints                        0.2.3    \n",
      "et-xmlfile                         1.0.1    \n",
      "fastcache                          1.0.2    \n",
      "filelock                           3.0.4    \n",
      "Flask                              1.0.2    \n",
      "Flask-Cors                         3.0.4    \n",
      "gast                               0.2.0    \n",
      "gevent                             1.3.0    \n",
      "glob2                              0.6      \n",
      "graphviz                           0.9      \n",
      "greenlet                           0.4.13   \n",
      "grpcio                             1.12.1   \n",
      "h5py                               2.8.0    \n",
      "heapdict                           1.0.0    \n",
      "html5lib                           0.9999999\n",
      "idna                               2.6      \n",
      "imageio                            2.3.0    \n",
      "imagesize                          1.0.0    \n",
      "inflection                         0.3.1    \n",
      "ipykernel                          4.8.2    \n",
      "ipython                            6.5.0    \n",
      "ipython-genutils                   0.2.0    \n",
      "ipywidgets                         7.2.1    \n",
      "isort                              4.3.4    \n",
      "itsdangerous                       0.24     \n",
      "jdcal                              1.4      \n",
      "jedi                               0.12.0   \n",
      "Jinja2                             2.10     \n",
      "jsonschema                         2.6.0    \n",
      "jupyter                            1.0.0    \n",
      "jupyter-client                     5.2.3    \n",
      "jupyter-console                    5.2.0    \n",
      "jupyter-core                       4.4.0    \n",
      "jupyterlab                         0.32.1   \n",
      "jupyterlab-launcher                0.10.5   \n",
      "Keras                              2.2.2    \n",
      "Keras-Applications                 1.0.4    \n",
      "keras-contrib                      2.0.8    \n",
      "Keras-Preprocessing                1.0.2    \n",
      "keyring                            13.2.1   \n",
      "kiwisolver                         1.0.1    \n",
      "lazy-object-proxy                  1.3.1    \n",
      "llvmlite                           0.23.1   \n",
      "locket                             0.2.0    \n",
      "lxml                               4.2.1    \n",
      "Markdown                           2.6.11   \n",
      "MarkupSafe                         1.0      \n",
      "matplotlib                         2.2.3    \n",
      "mccabe                             0.6.1    \n",
      "menuinst                           1.4.14   \n",
      "mistune                            0.8.3    \n",
      "mkl-fft                            1.0.0    \n",
      "mkl-random                         1.0.1    \n",
      "more-itertools                     4.1.0    \n",
      "mpmath                             1.0.0    \n",
      "msgpack                            0.5.6    \n",
      "msgpack-python                     0.5.6    \n",
      "multipledispatch                   0.5.0    \n",
      "navigator-updater                  0.2.1    \n",
      "nbconvert                          5.3.1    \n",
      "nbformat                           4.4.0    \n",
      "networkx                           2.1      \n",
      "nltk                               3.3      \n",
      "nose                               1.3.7    \n",
      "notebook                           5.5.0    \n",
      "numba                              0.38.0   \n",
      "numexpr                            2.6.5    \n",
      "numpy                              1.15.1   \n",
      "numpydoc                           0.8.0    \n",
      "odo                                0.5.1    \n",
      "olefile                            0.45.1   \n",
      "opencv-python                      3.4.2.17 \n",
      "openpyxl                           2.5.3    \n",
      "packaging                          17.1     \n",
      "pandas                             0.23.4   \n",
      "pandocfilters                      1.4.2    \n",
      "parso                              0.2.0    \n",
      "partd                              0.3.8    \n",
      "path.py                            11.0.1   \n",
      "pathlib2                           2.3.2    \n",
      "patsy                              0.5.0    \n",
      "pep8                               1.7.1    \n",
      "pickleshare                        0.7.4    \n",
      "Pillow                             5.2.0    \n",
      "pip                                18.0     \n",
      "pkginfo                            1.4.2    \n",
      "pluggy                             0.6.0    \n",
      "ply                                3.11     \n",
      "prompt-toolkit                     1.0.15   \n",
      "protobuf                           3.6.0    \n",
      "psutil                             5.4.5    \n",
      "py                                 1.5.3    \n",
      "pycodestyle                        2.4.0    \n",
      "pycosat                            0.6.3    \n",
      "pycparser                          2.18     \n",
      "pycrypto                           2.6.1    \n",
      "pycurl                             7.43.0.1 \n",
      "pydotplus                          2.0.2    \n",
      "pyflakes                           1.6.0    \n",
      "Pygments                           2.2.0    \n",
      "pylint                             1.8.4    \n",
      "pyodbc                             4.0.23   \n",
      "pyOpenSSL                          18.0.0   \n",
      "pyparsing                          2.2.0    \n",
      "PySocks                            1.6.8    \n",
      "pystan                             2.17.1.0 \n",
      "pytest                             3.5.1    \n",
      "pytest-arraydiff                   0.2      \n",
      "pytest-astropy                     0.3.0    \n",
      "pytest-doctestplus                 0.1.3    \n",
      "pytest-openfiles                   0.3.0    \n",
      "pytest-remotedata                  0.2.1    \n",
      "python-dateutil                    2.7.3    \n",
      "python-docx                        0.8.6    \n",
      "pytz                               2018.4   \n",
      "PyWavelets                         0.5.2    \n",
      "pywin32                            223      \n",
      "pywinpty                           0.5.1    \n",
      "PyYAML                             3.12     \n",
      "pyzmq                              17.0.0   \n",
      "QtAwesome                          0.4.4    \n",
      "qtconsole                          4.3.1    \n",
      "QtPy                               1.4.1    \n",
      "Quandl                             3.4.1    \n",
      "requests                           2.18.4   \n",
      "rope                               0.10.7   \n",
      "ruamel-yaml                        0.15.35  \n",
      "scikit-image                       0.13.1   \n",
      "scikit-learn                       0.19.2   \n",
      "scipy                              1.1.0    \n",
      "seaborn                            0.9.0    \n",
      "Send2Trash                         1.5.0    \n",
      "setuptools                         39.1.0   \n",
      "simplegeneric                      0.8.1    \n",
      "singledispatch                     3.4.0.3  \n",
      "six                                1.11.0   \n",
      "snowballstemmer                    1.2.1    \n",
      "sortedcollections                  0.6.1    \n",
      "sortedcontainers                   1.5.10   \n",
      "Sphinx                             1.7.4    \n",
      "sphinxcontrib-websupport           1.0.1    \n",
      "spyder                             3.3.1    \n",
      "spyder-kernels                     0.2.4    \n",
      "SQLAlchemy                         1.2.7    \n",
      "statsmodels                        0.9.0    \n",
      "sympy                              1.1.1    \n",
      "tables                             3.4.3    \n",
      "tblib                              1.3.2    \n",
      "tensorboard                        1.10.0   \n",
      "tensorflow-gpu                     1.10.0   \n",
      "termcolor                          1.1.0    \n",
      "terminado                          0.8.1    \n",
      "testpath                           0.3.1    \n",
      "toolz                              0.9.0    \n",
      "tornado                            5.0.2    \n",
      "traitlets                          4.3.2    \n",
      "typing                             3.6.4    \n",
      "unicodecsv                         0.14.1   \n",
      "urllib3                            1.22     \n",
      "utils                              0.9.0    \n",
      "wcwidth                            0.1.7    \n",
      "webencodings                       0.5.1    \n",
      "Werkzeug                           0.14.1   \n",
      "wheel                              0.31.1   \n",
      "widgetsnbextension                 3.2.1    \n",
      "win-inet-pton                      1.0.1    \n",
      "win-unicode-console                0.5      \n",
      "wincertstore                       0.2      \n",
      "wrapt                              1.10.11  \n",
      "xgboost                            0.80     \n",
      "xlrd                               1.1.0    \n",
      "XlsxWriter                         1.0.4    \n",
      "xlwings                            0.11.8   \n",
      "xlwt                               1.3.0    \n",
      "zict                               0.1.3    \n"
     ]
    }
   ],
   "source": [
    "!pip list"
   ]
  },
  {
   "cell_type": "code",
   "execution_count": 2,
   "metadata": {},
   "outputs": [
    {
     "data": {
      "application/json": {
       "cell": {
        "!": "OSMagics",
        "HTML": "Other",
        "SVG": "Other",
        "bash": "Other",
        "capture": "ExecutionMagics",
        "cmd": "Other",
        "debug": "ExecutionMagics",
        "file": "Other",
        "html": "DisplayMagics",
        "javascript": "DisplayMagics",
        "js": "DisplayMagics",
        "latex": "DisplayMagics",
        "markdown": "DisplayMagics",
        "perl": "Other",
        "prun": "ExecutionMagics",
        "pypy": "Other",
        "python": "Other",
        "python2": "Other",
        "python3": "Other",
        "ruby": "Other",
        "script": "ScriptMagics",
        "sh": "Other",
        "svg": "DisplayMagics",
        "sx": "OSMagics",
        "system": "OSMagics",
        "time": "ExecutionMagics",
        "timeit": "ExecutionMagics",
        "writefile": "OSMagics"
       },
       "line": {
        "alias": "OSMagics",
        "alias_magic": "BasicMagics",
        "autocall": "AutoMagics",
        "automagic": "AutoMagics",
        "autosave": "KernelMagics",
        "bookmark": "OSMagics",
        "cd": "OSMagics",
        "clear": "KernelMagics",
        "cls": "KernelMagics",
        "colors": "BasicMagics",
        "config": "ConfigMagics",
        "connect_info": "KernelMagics",
        "copy": "Other",
        "ddir": "Other",
        "debug": "ExecutionMagics",
        "dhist": "OSMagics",
        "dirs": "OSMagics",
        "doctest_mode": "BasicMagics",
        "echo": "Other",
        "ed": "Other",
        "edit": "KernelMagics",
        "env": "OSMagics",
        "gui": "BasicMagics",
        "hist": "Other",
        "history": "HistoryMagics",
        "killbgscripts": "ScriptMagics",
        "ldir": "Other",
        "less": "KernelMagics",
        "load": "CodeMagics",
        "load_ext": "ExtensionMagics",
        "loadpy": "CodeMagics",
        "logoff": "LoggingMagics",
        "logon": "LoggingMagics",
        "logstart": "LoggingMagics",
        "logstate": "LoggingMagics",
        "logstop": "LoggingMagics",
        "ls": "Other",
        "lsmagic": "BasicMagics",
        "macro": "ExecutionMagics",
        "magic": "BasicMagics",
        "matplotlib": "PylabMagics",
        "mkdir": "Other",
        "more": "KernelMagics",
        "notebook": "BasicMagics",
        "page": "BasicMagics",
        "pastebin": "CodeMagics",
        "pdb": "ExecutionMagics",
        "pdef": "NamespaceMagics",
        "pdoc": "NamespaceMagics",
        "pfile": "NamespaceMagics",
        "pinfo": "NamespaceMagics",
        "pinfo2": "NamespaceMagics",
        "pip": "BasicMagics",
        "popd": "OSMagics",
        "pprint": "BasicMagics",
        "precision": "BasicMagics",
        "profile": "BasicMagics",
        "prun": "ExecutionMagics",
        "psearch": "NamespaceMagics",
        "psource": "NamespaceMagics",
        "pushd": "OSMagics",
        "pwd": "OSMagics",
        "pycat": "OSMagics",
        "pylab": "PylabMagics",
        "qtconsole": "KernelMagics",
        "quickref": "BasicMagics",
        "recall": "HistoryMagics",
        "rehashx": "OSMagics",
        "reload_ext": "ExtensionMagics",
        "ren": "Other",
        "rep": "Other",
        "rerun": "HistoryMagics",
        "reset": "NamespaceMagics",
        "reset_selective": "NamespaceMagics",
        "rmdir": "Other",
        "run": "ExecutionMagics",
        "save": "CodeMagics",
        "sc": "OSMagics",
        "set_env": "OSMagics",
        "store": "StoreMagics",
        "sx": "OSMagics",
        "system": "OSMagics",
        "tb": "ExecutionMagics",
        "time": "ExecutionMagics",
        "timeit": "ExecutionMagics",
        "unalias": "OSMagics",
        "unload_ext": "ExtensionMagics",
        "who": "NamespaceMagics",
        "who_ls": "NamespaceMagics",
        "whos": "NamespaceMagics",
        "xdel": "NamespaceMagics",
        "xmode": "BasicMagics"
       }
      },
      "text/plain": [
       "Available line magics:\n",
       "%alias  %alias_magic  %autocall  %automagic  %autosave  %bookmark  %cd  %clear  %cls  %colors  %config  %connect_info  %copy  %ddir  %debug  %dhist  %dirs  %doctest_mode  %echo  %ed  %edit  %env  %gui  %hist  %history  %killbgscripts  %ldir  %less  %load  %load_ext  %loadpy  %logoff  %logon  %logstart  %logstate  %logstop  %ls  %lsmagic  %macro  %magic  %matplotlib  %mkdir  %more  %notebook  %page  %pastebin  %pdb  %pdef  %pdoc  %pfile  %pinfo  %pinfo2  %popd  %pprint  %precision  %profile  %prun  %psearch  %psource  %pushd  %pwd  %pycat  %pylab  %qtconsole  %quickref  %recall  %rehashx  %reload_ext  %ren  %rep  %rerun  %reset  %reset_selective  %rmdir  %run  %save  %sc  %set_env  %store  %sx  %system  %tb  %time  %timeit  %unalias  %unload_ext  %who  %who_ls  %whos  %xdel  %xmode\n",
       "\n",
       "Available cell magics:\n",
       "%%!  %%HTML  %%SVG  %%bash  %%capture  %%cmd  %%debug  %%file  %%html  %%javascript  %%js  %%latex  %%markdown  %%perl  %%prun  %%pypy  %%python  %%python2  %%python3  %%ruby  %%script  %%sh  %%svg  %%sx  %%system  %%time  %%timeit  %%writefile\n",
       "\n",
       "Automagic is ON, % prefix IS NOT needed for line magics."
      ]
     },
     "execution_count": 2,
     "metadata": {},
     "output_type": "execute_result"
    }
   ],
   "source": [
    "%lsmagic"
   ]
  },
  {
   "cell_type": "code",
   "execution_count": 3,
   "metadata": {},
   "outputs": [
    {
     "data": {
      "text/plain": [
       "'C:\\\\Users\\\\rop\\\\Dropbox\\\\backup\\\\coding\\\\python\\\\basics'"
      ]
     },
     "execution_count": 3,
     "metadata": {},
     "output_type": "execute_result"
    }
   ],
   "source": [
    "%pwd"
   ]
  },
  {
   "cell_type": "code",
   "execution_count": 4,
   "metadata": {},
   "outputs": [
    {
     "name": "stdout",
     "output_type": "stream",
     "text": [
      "hello world\n",
      "[2, 4, 6, 8]\n",
      "[2, 7, 4, 6, 8]\n"
     ]
    }
   ],
   "source": [
    "import os\n",
    "\n",
    "print('hello world')\n",
    "\n",
    "var = 12\n",
    "var = \"This is a string now\"\n",
    "var = [2, 4, 6, 8]\n",
    "print(var)\n",
    "var.insert(1,7)\n",
    "print(var)"
   ]
  },
  {
   "cell_type": "code",
   "execution_count": 5,
   "metadata": {},
   "outputs": [
    {
     "name": "stdout",
     "output_type": "stream",
     "text": [
      "Heya!\tHi!\n",
      "Hello!\tWelcome!\n",
      "****************************************\n"
     ]
    },
    {
     "data": {
      "text/plain": [
       "'10 2'"
      ]
     },
     "execution_count": 5,
     "metadata": {},
     "output_type": "execute_result"
    }
   ],
   "source": [
    "print(\"Heya!\\tHi!\\nHello!\\tWelcome!\")\n",
    "\n",
    "print('*'*40)\n",
    "\n",
    "def high_and_low(numbers):\n",
    "    num = [int(n) for n in numbers.split(' ')]\n",
    "    return str(max(num)) + ' ' + str(min(num))\n",
    "    \n",
    "high_and_low('5 2 3 10 4 3 8')"
   ]
  },
  {
   "cell_type": "code",
   "execution_count": 6,
   "metadata": {},
   "outputs": [
    {
     "name": "stdout",
     "output_type": "stream",
     "text": [
      "---- string format ------\n",
      "c:\n",
      "ew folder\time\n"
     ]
    }
   ],
   "source": [
    "print('---- string format ------')\n",
    "\n",
    "string1 = 'c:\\new folder\\time'\n",
    "print(string1)"
   ]
  },
  {
   "cell_type": "code",
   "execution_count": 7,
   "metadata": {},
   "outputs": [
    {
     "name": "stdout",
     "output_type": "stream",
     "text": [
      "c:\\new folder\\time\n"
     ]
    }
   ],
   "source": [
    "# r prefix to indicate raw string, avoiding multiple escapes\n",
    "string2 = r'c:\\new folder\\time'\n",
    "print(string2)"
   ]
  },
  {
   "cell_type": "code",
   "execution_count": 8,
   "metadata": {},
   "outputs": [
    {
     "name": "stdout",
     "output_type": "stream",
     "text": [
      "He said his name is Fred and he is 45 years old.\n"
     ]
    }
   ],
   "source": [
    "name = 'Fred'\n",
    "age = 45\n",
    "#old way\n",
    "print('He said his name is {} and he is {} years old.'.format(name, age))"
   ]
  },
  {
   "cell_type": "code",
   "execution_count": 9,
   "metadata": {},
   "outputs": [
    {
     "name": "stdout",
     "output_type": "stream",
     "text": [
      "He said his name is Fred and he is 45 years old.\n"
     ]
    }
   ],
   "source": [
    "#new way (use f prefix)\n",
    "print(f'He said his name is {name} and he is {age} years old.')"
   ]
  },
  {
   "cell_type": "code",
   "execution_count": 10,
   "metadata": {},
   "outputs": [
    {
     "name": "stdout",
     "output_type": "stream",
     "text": [
      "---- function ------\n",
      "This is a function\n"
     ]
    }
   ],
   "source": [
    "print('---- function ------')\n",
    "\n",
    "def func():\n",
    "    print('This is a function')\n",
    " \n",
    "f = func\n",
    "\n",
    "f()"
   ]
  },
  {
   "cell_type": "code",
   "execution_count": 11,
   "metadata": {},
   "outputs": [
    {
     "name": "stdout",
     "output_type": "stream",
     "text": [
      "2\n",
      "5\n",
      "9\n"
     ]
    }
   ],
   "source": [
    "def f2(*args):\n",
    "    for i in args:\n",
    "        print(i)\n",
    "\n",
    "f2(2,5,9)"
   ]
  },
  {
   "cell_type": "code",
   "execution_count": 12,
   "metadata": {},
   "outputs": [
    {
     "name": "stdout",
     "output_type": "stream",
     "text": [
      "---- lambda function ------\n",
      "16\n",
      "316\n"
     ]
    }
   ],
   "source": [
    "print('---- lambda function ------')\n",
    "square = lambda x: x**2 # x is the argument\n",
    "print(square(4))\n",
    "tot = lambda x,y,z: x+y+2*z\n",
    "print(tot(255,29,16))"
   ]
  },
  {
   "cell_type": "code",
   "execution_count": 13,
   "metadata": {},
   "outputs": [
    {
     "name": "stdout",
     "output_type": "stream",
     "text": [
      "---- tuple ------\n",
      "tuple:\n",
      "0 1\n",
      "1 4\n",
      "2 hello\n",
      "3 5.24\n"
     ]
    }
   ],
   "source": [
    "print('---- tuple ------')\n",
    "tup = (1,4,'hello', 5.24)\n",
    "print('tuple:')\n",
    "for i,v in enumerate(tup):\n",
    "    print(i,v)"
   ]
  },
  {
   "cell_type": "code",
   "execution_count": 14,
   "metadata": {},
   "outputs": [
    {
     "name": "stdout",
     "output_type": "stream",
     "text": [
      "---- set ------\n",
      "set:\n",
      "{'longan', 'apple', 'lychee', 'mango', 'pineapple'}\n",
      "is longan in fruits_set?  True\n",
      "is banana in fruits_set?  False\n"
     ]
    }
   ],
   "source": [
    "print('---- set ------')\n",
    "fruits = ['apple','lychee', 'apple', 'longan','mango','pineapple','longan']\n",
    "fruits_set = set(fruits)\n",
    "print('set:')\n",
    "print(fruits_set)\n",
    "print('is longan in fruits_set? ', ('longan' in fruits_set))\n",
    "print('is banana in fruits_set? ', ('banana' in fruits_set))"
   ]
  },
  {
   "cell_type": "code",
   "execution_count": 15,
   "metadata": {},
   "outputs": [
    {
     "name": "stdout",
     "output_type": "stream",
     "text": [
      "{(2, -2), (2, -1), (2, 0), (1, -1), (1, 0), (1, -2)}\n"
     ]
    }
   ],
   "source": [
    "mySet = set((x,y) for x in range(1,3) for y in range(-2,1))\n",
    "print(mySet)"
   ]
  },
  {
   "cell_type": "code",
   "execution_count": 16,
   "metadata": {},
   "outputs": [
    {
     "name": "stdout",
     "output_type": "stream",
     "text": [
      "{'c', 'd', 'b', 'a', 'r'}\n"
     ]
    }
   ],
   "source": [
    "alpha = set('abracadabra')\n",
    "print(alpha)"
   ]
  },
  {
   "cell_type": "code",
   "execution_count": 17,
   "metadata": {},
   "outputs": [
    {
     "name": "stdout",
     "output_type": "stream",
     "text": [
      "---- dict ------\n",
      "dict_items([(0, 'c'), (1, 'd'), (2, 'b'), (3, 'a'), (4, 'r')])\n"
     ]
    }
   ],
   "source": [
    "print('---- dict ------')\n",
    "dict1 = {}\n",
    "for i,v in enumerate(alpha):\n",
    "    dict1[i] = v\n",
    "print(dict1.items())"
   ]
  },
  {
   "cell_type": "code",
   "execution_count": 18,
   "metadata": {},
   "outputs": [
    {
     "data": {
      "text/plain": [
       "[102.67,\n",
       " 102.73,\n",
       " 107.99,\n",
       " 104.67,\n",
       " 108.75,\n",
       " 109.76,\n",
       " 108.02,\n",
       " 108.65,\n",
       " 100.37,\n",
       " 108.75]"
      ]
     },
     "execution_count": 18,
     "metadata": {},
     "output_type": "execute_result"
    }
   ],
   "source": [
    "import numpy as np\n",
    "\n",
    "h = 100 + np.random.rand(10)*10\n",
    "[round(a,2) for a in h]"
   ]
  },
  {
   "cell_type": "code",
   "execution_count": 19,
   "metadata": {},
   "outputs": [],
   "source": [
    "# Create data: 200 points\n",
    "data = np.random.multivariate_normal([0, 0], [[1, 0.5], [0.5, 3]], 200)"
   ]
  },
  {
   "cell_type": "code",
   "execution_count": 33,
   "metadata": {},
   "outputs": [],
   "source": [
    "import matplotlib.pyplot as plt\n",
    "from scipy import stats"
   ]
  },
  {
   "cell_type": "code",
   "execution_count": 21,
   "metadata": {},
   "outputs": [],
   "source": [
    "x, y = data.T"
   ]
  },
  {
   "cell_type": "code",
   "execution_count": 22,
   "metadata": {},
   "outputs": [
    {
     "data": {
      "text/plain": [
       "(array([ 5., 12., 24., 40., 39., 38., 22., 12.,  6.,  2.]),\n",
       " array([-2.34848461, -1.80772676, -1.26696891, -0.72621105, -0.1854532 ,\n",
       "         0.35530465,  0.89606251,  1.43682036,  1.97757821,  2.51833607,\n",
       "         3.05909392]),\n",
       " <a list of 10 Patch objects>)"
      ]
     },
     "execution_count": 22,
     "metadata": {},
     "output_type": "execute_result"
    },
    {
     "data": {
      "image/png": "[encoded data removed]",
      "text/plain": [
       "<Figure size 432x288 with 1 Axes>"
      ]
     },
     "metadata": {},
     "output_type": "display_data"
    }
   ],
   "source": [
    "plt.hist(x)"
   ]
  },
  {
   "cell_type": "code",
   "execution_count": 32,
   "metadata": {},
   "outputs": [
    {
     "data": {
      "text/plain": [
       "<matplotlib.legend.Legend at 0x56bbc50>"
      ]
     },
     "execution_count": 32,
     "metadata": {},
     "output_type": "execute_result"
    },
    {
     "data": {
      "image/png": "[encoded data removed]",
      "text/plain": [
       "<Figure size 432x288 with 1 Axes>"
      ]
     },
     "metadata": {},
     "output_type": "display_data"
    }
   ],
   "source": [
    "plt.scatter(x, y, alpha=0.5, marker=r'$\\clubsuit$', c='g', s=60, label=\"Luck\")\n",
    "plt.scatter(x, y**2 - y, alpha=0.5, marker=r'$\\heartsuit$', c='r', s=60, label=\"Love\")\n",
    "plt.legend()"
   ]
  },
  {
   "cell_type": "code",
   "execution_count": 34,
   "metadata": {},
   "outputs": [],
   "source": [
    "?stats.pearsonr()"
   ]
  },
  {
   "cell_type": "code",
   "execution_count": 36,
   "metadata": {},
   "outputs": [
    {
     "name": "stdout",
     "output_type": "stream",
     "text": [
      "0.3809087222270423 2.6321460437560335e-08\n"
     ]
    }
   ],
   "source": [
    "r_coef, pval_r = stats.pearsonr(x, y)\n",
    "print(r_coef, pval_r)"
   ]
  },
  {
   "cell_type": "code",
   "execution_count": 37,
   "metadata": {},
   "outputs": [
    {
     "name": "stdout",
     "output_type": "stream",
     "text": [
      "-0.9261879529785192 0.35490957748381236\n"
     ]
    }
   ],
   "source": [
    "t_stat, pval_t = stats.ttest_ind(x, y)\n",
    "print(t_stat, pval_t)"
   ]
  },
  {
   "cell_type": "code",
   "execution_count": null,
   "metadata": {},
   "outputs": [],
   "source": []
  }
 ],
 "metadata": {
  "kernelspec": {
   "display_name": "Python 3",
   "language": "python",
   "name": "python3"
  },
  "language_info": {
   "codemirror_mode": {
    "name": "ipython",
    "version": 3
   },
   "file_extension": ".py",
   "mimetype": "text/x-python",
   "name": "python",
   "nbconvert_exporter": "python",
   "pygments_lexer": "ipython3",
   "version": "3.6.5"
  }
 },
 "nbformat": 4,
 "nbformat_minor": 2
}
