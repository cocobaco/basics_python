{
 "cells": [
  {
   "cell_type": "code",
   "execution_count": 1,
   "metadata": {},
   "outputs": [],
   "source": [
    "from pathlib import Path"
   ]
  },
  {
   "cell_type": "code",
   "execution_count": 2,
   "metadata": {},
   "outputs": [],
   "source": [
    "path = Path.cwd() / 'data' / 'world_population.txt'"
   ]
  },
  {
   "cell_type": "code",
   "execution_count": 3,
   "metadata": {},
   "outputs": [
    {
     "data": {
      "text/plain": [
       "WindowsPath('C:/Users/rop/Dropbox/backup/coding/python/basics_python/data/world_population.txt')"
      ]
     },
     "execution_count": 3,
     "metadata": {},
     "output_type": "execute_result"
    }
   ],
   "source": [
    "path"
   ]
  },
  {
   "cell_type": "code",
   "execution_count": 4,
   "metadata": {},
   "outputs": [
    {
     "data": {
      "text/plain": [
       "'world_population'"
      ]
     },
     "execution_count": 4,
     "metadata": {},
     "output_type": "execute_result"
    }
   ],
   "source": [
    "path.stem"
   ]
  },
  {
   "cell_type": "code",
   "execution_count": 5,
   "metadata": {},
   "outputs": [
    {
     "data": {
      "text/plain": [
       "WindowsPath('C:/Users/rop/Dropbox/backup/coding/python/basics_python/data')"
      ]
     },
     "execution_count": 5,
     "metadata": {},
     "output_type": "execute_result"
    }
   ],
   "source": [
    "path.parent"
   ]
  },
  {
   "cell_type": "code",
   "execution_count": 6,
   "metadata": {},
   "outputs": [
    {
     "data": {
      "text/plain": [
       "WindowsPath('C:/Users/rop/Dropbox/backup/coding/python/basics_python')"
      ]
     },
     "execution_count": 6,
     "metadata": {},
     "output_type": "execute_result"
    }
   ],
   "source": [
    "path.parent.parent"
   ]
  },
  {
   "cell_type": "code",
   "execution_count": 7,
   "metadata": {},
   "outputs": [
    {
     "data": {
      "text/plain": [
       "'.txt'"
      ]
     },
     "execution_count": 7,
     "metadata": {},
     "output_type": "execute_result"
    }
   ],
   "source": [
    "path.suffix"
   ]
  },
  {
   "cell_type": "code",
   "execution_count": 8,
   "metadata": {},
   "outputs": [
    {
     "data": {
      "text/plain": [
       "'31.889923,\\n 3.6005229999999999,\\n 33.333216,\\n 12.420476000000001,\\n 40.301926999999999,\\n 20.434176000000001,\\n 8.199783,\\n 0.70857300000000001,\\n 150.448339,\\n 10.392226000000001,\\n 8.0783140000000007,\\n 9.1191519999999997,\\n 4.5521979999999997,\\n 1.6391309999999999,\\n 190.01064700000001,\\n 7.3228580000000001,\\n 14.326203,\\n 8.3905049999999992,\\n 14.131857999999999,\\n 17.696293000000001,\\n 33.390141,\\n 4.3690379999999998,\\n 10.238807,\\n 16.284741,\\n 1318.683096,\\n 44.227550000000001,\\n 0.71096000000000004,\\n 64.606758999999997,\\n 3.8006099999999998,\\n 4.1338840000000001,\\n 18.013408999999999,\\n 4.4933120000000004,\\n 11.416987000000001,\\n 10.228744000000001,\\n 5.4681199999999999,\\n 0.49637399999999998,\\n 9.3196220000000007,\\n 13.75568,\\n 80.264543000000003,\\n 6.9396880000000003,\\n 0.55120100000000005,\\n 4.9065849999999998,\\n 76.511887000000002,\\n 5.2384599999999999,\\n 61.083916000000002,\\n 1.4548669999999999,\\n 1.6883589999999999,\\n 82.400996000000006,\\n 22.873338,\\n 10.706289999999999,\\n 12.572927999999999,\\n 9.9478139999999993,\\n 1.4720409999999999,\\n 8.5028140000000008,\\n 7.4837629999999997,\\n 6.9804120000000003,\\n 9.9561080000000004,\\n 0.301931,\\n 1110.3963309999999,\\n 223.547,\\n 69.453569999999999,\\n 27.499638000000001,\\n 4.1090859999999996,\\n 6.426679,\\n 58.147733000000002,\\n 2.780132,\\n 127.467972,\\n 6.0531930000000003,\\n 35.610177,\\n 23.301725000000001,\\n 49.044789999999999,\\n 2.5055589999999999,\\n 3.921278,\\n 2.0126490000000001,\\n 3.1939419999999998,\\n 6.0369140000000003,\\n 19.167653999999999,\\n 13.327078999999999,\\n 24.821286000000001,\\n 12.031795000000001,\\n 3.2700650000000002,\\n 1.250882,\\n 108.700891,\\n 2.8741270000000001,\\n 0.68473600000000001,\\n 33.757174999999997,\\n 19.951656,\\n 47.761980000000001,\\n 2.0550799999999998,\\n 28.901789999999998,\\n 16.570613000000002,\\n 4.1157709999999996,\\n 5.6753559999999998,\\n 12.894864999999999,\\n 135.03116399999999,\\n 4.6279260000000004,\\n 3.2048969999999999,\\n 169.27061699999999,\\n 3.2421730000000002,\\n 6.6671469999999999,\\n 28.674757,\\n 91.077286999999998,\\n 38.518241000000003,\\n 10.642836000000001,\\n 3.942491,\\n 0.79809399999999997,\\n 22.276056000000001,\\n 8.8605879999999999,\\n 0.19957900000000001,\\n 27.601037999999999,\\n 12.267493,\\n 10.150264999999999,\\n 6.1445619999999996,\\n 4.5530090000000003,\\n 5.4475020000000001,\\n 2.0092449999999999,\\n 9.1187729999999991,\\n 43.997827999999998,\\n 40.448191000000001,\\n 20.378239000000001,\\n 42.292929000000001,\\n 1.1330659999999999,\\n 9.0310880000000004,\\n 7.5546610000000003,\\n 19.314747000000001,\\n 23.174294,\\n 38.13964,\\n 65.068149000000005,\\n 5.7015789999999997,\\n 1.056608,\\n 10.276158000000001,\\n 71.158647000000002,\\n 29.170397999999999,\\n 60.776237999999999,\\n 301.13994700000001,\\n 3.4474960000000001,\\n 26.084662000000002,\\n 85.262355999999997,\\n 4.018332,\\n 22.211742999999998,\\n 11.746034999999999,\\n 12.311143'"
      ]
     },
     "execution_count": 8,
     "metadata": {},
     "output_type": "execute_result"
    }
   ],
   "source": [
    "path.read_text()"
   ]
  },
  {
   "cell_type": "code",
   "execution_count": 9,
   "metadata": {},
   "outputs": [
    {
     "data": {
      "text/plain": [
       "WindowsPath('C:/Users/rop/Dropbox/backup/coding/python/basics_python/data/world_population.txt')"
      ]
     },
     "execution_count": 9,
     "metadata": {},
     "output_type": "execute_result"
    }
   ],
   "source": [
    "path.resolve()"
   ]
  },
  {
   "cell_type": "code",
   "execution_count": null,
   "metadata": {},
   "outputs": [],
   "source": []
  }
 ],
 "metadata": {
  "kernelspec": {
   "display_name": "Python 3",
   "language": "python",
   "name": "python3"
  },
  "language_info": {
   "codemirror_mode": {
    "name": "ipython",
    "version": 3
   },
   "file_extension": ".py",
   "mimetype": "text/x-python",
   "name": "python",
   "nbconvert_exporter": "python",
   "pygments_lexer": "ipython3",
   "version": "3.6.5"
  }
 },
 "nbformat": 4,
 "nbformat_minor": 2
}
